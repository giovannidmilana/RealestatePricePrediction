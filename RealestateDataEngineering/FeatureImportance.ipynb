{
 "cells": [
  {
   "cell_type": "code",
   "execution_count": 19,
   "id": "bb2ab5e7",
   "metadata": {},
   "outputs": [],
   "source": [
    "import pandas as pd"
   ]
  },
  {
   "cell_type": "code",
   "execution_count": 35,
   "id": "845e1689",
   "metadata": {},
   "outputs": [],
   "source": [
    "features = pd.read_csv('ZillowCC01.csv')"
   ]
  },
  {
   "cell_type": "code",
   "execution_count": 36,
   "id": "d025daa6",
   "metadata": {},
   "outputs": [
    {
     "data": {
      "text/html": [
       "<div>\n",
       "<style scoped>\n",
       "    .dataframe tbody tr th:only-of-type {\n",
       "        vertical-align: middle;\n",
       "    }\n",
       "\n",
       "    .dataframe tbody tr th {\n",
       "        vertical-align: top;\n",
       "    }\n",
       "\n",
       "    .dataframe thead th {\n",
       "        text-align: right;\n",
       "    }\n",
       "</style>\n",
       "<table border=\"1\" class=\"dataframe\">\n",
       "  <thead>\n",
       "    <tr style=\"text-align: right;\">\n",
       "      <th></th>\n",
       "      <th>unformattedPrice</th>\n",
       "      <th>addressCity</th>\n",
       "      <th>addressZipcode</th>\n",
       "      <th>beds</th>\n",
       "      <th>baths</th>\n",
       "      <th>area</th>\n",
       "      <th>isHomeRec</th>\n",
       "      <th>relaxed</th>\n",
       "      <th>latLong.latitude</th>\n",
       "      <th>latLong.longitude</th>\n",
       "      <th>...</th>\n",
       "      <th>isPropertyResultCDP</th>\n",
       "      <th>hdpData.homeInfo.group_type</th>\n",
       "      <th>Kluster</th>\n",
       "      <th>radiusAvgBaths</th>\n",
       "      <th>radiusAvgBeds</th>\n",
       "      <th>radiusAvgArea</th>\n",
       "      <th>radiusAreaPercentile</th>\n",
       "      <th>radiusBedsPercentile</th>\n",
       "      <th>radiusBathsPercentile</th>\n",
       "      <th>homesInRadius</th>\n",
       "    </tr>\n",
       "  </thead>\n",
       "  <tbody>\n",
       "    <tr>\n",
       "      <th>0</th>\n",
       "      <td>343000</td>\n",
       "      <td>0</td>\n",
       "      <td>0</td>\n",
       "      <td>4.0</td>\n",
       "      <td>2.0</td>\n",
       "      <td>2146.0</td>\n",
       "      <td>0</td>\n",
       "      <td>0</td>\n",
       "      <td>34.306420</td>\n",
       "      <td>-83.855730</td>\n",
       "      <td>...</td>\n",
       "      <td>-1</td>\n",
       "      <td>-1</td>\n",
       "      <td>93</td>\n",
       "      <td>1.973941</td>\n",
       "      <td>2.752027</td>\n",
       "      <td>1698.269036</td>\n",
       "      <td>0.211387</td>\n",
       "      <td>0.276776</td>\n",
       "      <td>0.371477</td>\n",
       "      <td>1774</td>\n",
       "    </tr>\n",
       "    <tr>\n",
       "      <th>1</th>\n",
       "      <td>300000</td>\n",
       "      <td>0</td>\n",
       "      <td>0</td>\n",
       "      <td>4.0</td>\n",
       "      <td>2.0</td>\n",
       "      <td>1581.0</td>\n",
       "      <td>0</td>\n",
       "      <td>0</td>\n",
       "      <td>34.315800</td>\n",
       "      <td>-83.833786</td>\n",
       "      <td>...</td>\n",
       "      <td>-1</td>\n",
       "      <td>-1</td>\n",
       "      <td>93</td>\n",
       "      <td>1.857039</td>\n",
       "      <td>2.613757</td>\n",
       "      <td>1650.515181</td>\n",
       "      <td>0.179012</td>\n",
       "      <td>0.245679</td>\n",
       "      <td>0.322840</td>\n",
       "      <td>1620</td>\n",
       "    </tr>\n",
       "    <tr>\n",
       "      <th>2</th>\n",
       "      <td>329900</td>\n",
       "      <td>1</td>\n",
       "      <td>1</td>\n",
       "      <td>4.0</td>\n",
       "      <td>3.0</td>\n",
       "      <td>2369.0</td>\n",
       "      <td>0</td>\n",
       "      <td>0</td>\n",
       "      <td>33.773850</td>\n",
       "      <td>-84.006210</td>\n",
       "      <td>...</td>\n",
       "      <td>-1</td>\n",
       "      <td>-1</td>\n",
       "      <td>43</td>\n",
       "      <td>2.611102</td>\n",
       "      <td>3.333502</td>\n",
       "      <td>1783.053016</td>\n",
       "      <td>0.247053</td>\n",
       "      <td>0.408410</td>\n",
       "      <td>0.568812</td>\n",
       "      <td>6278</td>\n",
       "    </tr>\n",
       "    <tr>\n",
       "      <th>3</th>\n",
       "      <td>349000</td>\n",
       "      <td>2</td>\n",
       "      <td>2</td>\n",
       "      <td>4.0</td>\n",
       "      <td>3.0</td>\n",
       "      <td>2988.0</td>\n",
       "      <td>0</td>\n",
       "      <td>0</td>\n",
       "      <td>34.080894</td>\n",
       "      <td>-83.868385</td>\n",
       "      <td>...</td>\n",
       "      <td>-1</td>\n",
       "      <td>-1</td>\n",
       "      <td>133</td>\n",
       "      <td>2.423464</td>\n",
       "      <td>3.238448</td>\n",
       "      <td>1831.290224</td>\n",
       "      <td>0.266185</td>\n",
       "      <td>0.382254</td>\n",
       "      <td>0.526180</td>\n",
       "      <td>3877</td>\n",
       "    </tr>\n",
       "    <tr>\n",
       "      <th>4</th>\n",
       "      <td>174000</td>\n",
       "      <td>3</td>\n",
       "      <td>3</td>\n",
       "      <td>2.0</td>\n",
       "      <td>1.0</td>\n",
       "      <td>0.0</td>\n",
       "      <td>1</td>\n",
       "      <td>0</td>\n",
       "      <td>34.423496</td>\n",
       "      <td>-83.100530</td>\n",
       "      <td>...</td>\n",
       "      <td>-1</td>\n",
       "      <td>-1</td>\n",
       "      <td>119</td>\n",
       "      <td>1.764706</td>\n",
       "      <td>2.883002</td>\n",
       "      <td>1431.381995</td>\n",
       "      <td>0.101639</td>\n",
       "      <td>0.126230</td>\n",
       "      <td>0.127869</td>\n",
       "      <td>610</td>\n",
       "    </tr>\n",
       "  </tbody>\n",
       "</table>\n",
       "<p>5 rows × 26 columns</p>\n",
       "</div>"
      ],
      "text/plain": [
       "   unformattedPrice  addressCity  addressZipcode  beds  baths    area  \\\n",
       "0            343000            0               0   4.0    2.0  2146.0   \n",
       "1            300000            0               0   4.0    2.0  1581.0   \n",
       "2            329900            1               1   4.0    3.0  2369.0   \n",
       "3            349000            2               2   4.0    3.0  2988.0   \n",
       "4            174000            3               3   2.0    1.0     0.0   \n",
       "\n",
       "   isHomeRec  relaxed  latLong.latitude  latLong.longitude  ...  \\\n",
       "0          0        0         34.306420         -83.855730  ...   \n",
       "1          0        0         34.315800         -83.833786  ...   \n",
       "2          0        0         33.773850         -84.006210  ...   \n",
       "3          0        0         34.080894         -83.868385  ...   \n",
       "4          1        0         34.423496         -83.100530  ...   \n",
       "\n",
       "   isPropertyResultCDP  hdpData.homeInfo.group_type  Kluster  radiusAvgBaths  \\\n",
       "0                   -1                           -1       93        1.973941   \n",
       "1                   -1                           -1       93        1.857039   \n",
       "2                   -1                           -1       43        2.611102   \n",
       "3                   -1                           -1      133        2.423464   \n",
       "4                   -1                           -1      119        1.764706   \n",
       "\n",
       "   radiusAvgBeds  radiusAvgArea  radiusAreaPercentile  radiusBedsPercentile  \\\n",
       "0       2.752027    1698.269036              0.211387              0.276776   \n",
       "1       2.613757    1650.515181              0.179012              0.245679   \n",
       "2       3.333502    1783.053016              0.247053              0.408410   \n",
       "3       3.238448    1831.290224              0.266185              0.382254   \n",
       "4       2.883002    1431.381995              0.101639              0.126230   \n",
       "\n",
       "   radiusBathsPercentile  homesInRadius  \n",
       "0               0.371477           1774  \n",
       "1               0.322840           1620  \n",
       "2               0.568812           6278  \n",
       "3               0.526180           3877  \n",
       "4               0.127869            610  \n",
       "\n",
       "[5 rows x 26 columns]"
      ]
     },
     "execution_count": 36,
     "metadata": {},
     "output_type": "execute_result"
    }
   ],
   "source": [
    "features.drop(['Unnamed: 0'], axis=1, inplace=True)\n",
    "features.head()"
   ]
  },
  {
   "cell_type": "code",
   "execution_count": 37,
   "id": "72292bbc",
   "metadata": {},
   "outputs": [],
   "source": [
    "# Use numpy to convert to arrays\n",
    "import numpy as np# Labels are the values we want to predict\n",
    "labels = np.array(features['unformattedPrice'])# Remove the labels from the features\n",
    "# axis 1 refers to the columns\n",
    "features= features.drop('unformattedPrice', axis = 1)# Saving feature names for later use\n",
    "feature_list = list(features.columns)# Convert to numpy array\n",
    "features = np.array(features)"
   ]
  },
  {
   "cell_type": "code",
   "execution_count": 38,
   "id": "8e172978",
   "metadata": {},
   "outputs": [],
   "source": [
    "from sklearn.model_selection import train_test_split# Split the data into training and testing sets\n",
    "train_features, test_features, train_labels, test_labels = train_test_split(features, labels, test_size = 0.25, random_state = 42)"
   ]
  },
  {
   "cell_type": "code",
   "execution_count": 39,
   "id": "182f34d0",
   "metadata": {},
   "outputs": [
    {
     "name": "stdout",
     "output_type": "stream",
     "text": [
      "Training Features Shape: (49783, 25)\n",
      "Training Labels Shape: (49783,)\n",
      "Testing Features Shape: (16595, 25)\n",
      "Testing Labels Shape: (16595,)\n"
     ]
    }
   ],
   "source": [
    "print('Training Features Shape:', train_features.shape)\n",
    "print('Training Labels Shape:', train_labels.shape)\n",
    "print('Testing Features Shape:', test_features.shape)\n",
    "print('Testing Labels Shape:', test_labels.shape)"
   ]
  },
  {
   "cell_type": "code",
   "execution_count": 44,
   "id": "20dfd7d1",
   "metadata": {},
   "outputs": [],
   "source": [
    "# Import the model we are using\n",
    "from sklearn.ensemble import RandomForestRegressor# Instantiate model with 1000 decision trees\n",
    "rf = RandomForestRegressor(n_estimators = 5000, random_state = 42)# Train the model on training data\n",
    "rf.fit(train_features, train_labels);"
   ]
  },
  {
   "cell_type": "code",
   "execution_count": 45,
   "id": "a951586a",
   "metadata": {},
   "outputs": [
    {
     "name": "stdout",
     "output_type": "stream",
     "text": [
      "Mean Absolute Error: 14664.24 degrees.\n"
     ]
    }
   ],
   "source": [
    "# Use the forest's predict method on the test data\n",
    "predictions = rf.predict(test_features)# Calculate the absolute errors\n",
    "errors = abs(predictions - test_labels)# Print out the mean absolute error (mae)\n",
    "print('Mean Absolute Error:', round(np.mean(errors), 2), 'degrees.')"
   ]
  },
  {
   "cell_type": "code",
   "execution_count": 46,
   "id": "4a46f74d",
   "metadata": {},
   "outputs": [
    {
     "name": "stdout",
     "output_type": "stream",
     "text": [
      "Accuracy: 92.9 %.\n"
     ]
    }
   ],
   "source": [
    "# Calculate mean absolute percentage error (MAPE)\n",
    "mape = 100 * (errors / test_labels)# Calculate and display accuracy\n",
    "accuracy = 100 - np.mean(mape)\n",
    "print('Accuracy:', round(accuracy, 2), '%.')"
   ]
  },
  {
   "cell_type": "code",
   "execution_count": 47,
   "id": "112be040",
   "metadata": {},
   "outputs": [
    {
     "name": "stdout",
     "output_type": "stream",
     "text": [
      "Variable: baths                Importance: 0.37\n",
      "Variable: area                 Importance: 0.08\n",
      "Variable: latLong.latitude     Importance: 0.08\n",
      "Variable: hdpData.homeInfo.livingArea Importance: 0.08\n",
      "Variable: radiusAvgBeds        Importance: 0.06\n",
      "Variable: radiusBathsPercentile Importance: 0.04\n",
      "Variable: latLong.longitude    Importance: 0.03\n",
      "Variable: hdpData.homeInfo.lotAreaValue Importance: 0.03\n",
      "Variable: radiusAvgBaths       Importance: 0.03\n",
      "Variable: radiusAvgArea        Importance: 0.03\n",
      "Variable: homesInRadius        Importance: 0.03\n",
      "Variable: addressZipcode       Importance: 0.02\n",
      "Variable: beds                 Importance: 0.02\n",
      "Variable: hdpData.homeInfo.homeType Importance: 0.02\n",
      "Variable: Kluster              Importance: 0.02\n",
      "Variable: radiusAreaPercentile Importance: 0.02\n",
      "Variable: radiusBedsPercentile Importance: 0.02\n",
      "Variable: addressCity          Importance: 0.01\n",
      "Variable: isHomeRec            Importance: 0.0\n",
      "Variable: relaxed              Importance: 0.0\n",
      "Variable: hdpData.homeInfo.state Importance: 0.0\n",
      "Variable: hdpData.homeInfo.daysOnZillow Importance: 0.0\n",
      "Variable: hdpData.homeInfo.isNonOwnerOccupied Importance: 0.0\n",
      "Variable: isPropertyResultCDP  Importance: 0.0\n",
      "Variable: hdpData.homeInfo.group_type Importance: 0.0\n"
     ]
    }
   ],
   "source": [
    "# Get numerical feature importances\n",
    "importances = list(rf.feature_importances_)# List of tuples with variable and importance\n",
    "feature_importances = [(feature, round(importance, 2)) for feature, importance in zip(feature_list, importances)]# Sort the feature importances by most important first\n",
    "feature_importances = sorted(feature_importances, key = lambda x: x[1], reverse = True)# Print out the feature and importances \n",
    "[print('Variable: {:20} Importance: {}'.format(*pair)) for pair in feature_importances];"
   ]
  },
  {
   "cell_type": "code",
   "execution_count": null,
   "id": "752c528b",
   "metadata": {},
   "outputs": [],
   "source": []
  }
 ],
 "metadata": {
  "kernelspec": {
   "display_name": "Python 3 (ipykernel)",
   "language": "python",
   "name": "python3"
  },
  "language_info": {
   "codemirror_mode": {
    "name": "ipython",
    "version": 3
   },
   "file_extension": ".py",
   "mimetype": "text/x-python",
   "name": "python",
   "nbconvert_exporter": "python",
   "pygments_lexer": "ipython3",
   "version": "3.8.10"
  }
 },
 "nbformat": 4,
 "nbformat_minor": 5
}
